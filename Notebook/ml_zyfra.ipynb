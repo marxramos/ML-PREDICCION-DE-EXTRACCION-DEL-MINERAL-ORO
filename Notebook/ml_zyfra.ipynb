{
 "cells": [
  {
   "cell_type": "markdown",
   "id": "5927b3e0",
   "metadata": {},
   "source": [
    "# Descripción del Proyecto"
   ]
  },
  {
   "cell_type": "markdown",
   "id": "8b72a609",
   "metadata": {},
   "source": [
    "Prepara un prototipo de un modelo de machine learning para Zyfra. La empresa desarrolla soluciones de eficiencia para la industria pesada.\n",
    "\n",
    "El modelo debe predecir la cantidad de oro extraído del mineral de oro. Dispones de los datos de extracción y purificación.\n",
    "\n",
    "El modelo ayudará a optimizar la producción y a eliminar los parámetros no rentables."
   ]
  },
  {
   "cell_type": "code",
   "execution_count": 8,
   "id": "eabd5fa8",
   "metadata": {},
   "outputs": [],
   "source": [
    "# Importacion de librerias a utilizar\n",
    "\n",
    "import pandas as pd\n",
    "from sklearn.metrics import mean_absolute_error\n",
    "from sklearn.preprocessing import StandardScaler\n",
    "import matplotlib.pyplot as plt\n",
    "import seaborn as sns\n",
    "from sklearn.linear_model import LinearRegression\n",
    "from sklearn.tree import DecisionTreeRegressor\n",
    "from sklearn.ensemble import RandomForestRegressor\n",
    "from sklearn.metrics import mean_squared_error, r2_score\n",
    "from sklearn.datasets import make_regression\n",
    "import numpy as np\n",
    "from sklearn.model_selection import cross_val_score\n",
    "from sklearn.model_selection import cross_val_predict\n",
    "from sklearn.metrics import make_scorer"
   ]
  },
  {
   "cell_type": "code",
   "execution_count": 14,
   "id": "2d7d14bb",
   "metadata": {},
   "outputs": [],
   "source": [
    "## Leemos los archivos\n",
    "\n",
    "full = pd.read_csv('../source/gold_recovery_full.csv')\n",
    "train = pd.read_csv('../source/gold_recovery_train.csv')\n",
    "test = pd.read_csv('../source/gold_recovery_test.csv')"
   ]
  }
 ],
 "metadata": {
  "kernelspec": {
   "display_name": "Python 3",
   "language": "python",
   "name": "python3"
  },
  "language_info": {
   "codemirror_mode": {
    "name": "ipython",
    "version": 3
   },
   "file_extension": ".py",
   "mimetype": "text/x-python",
   "name": "python",
   "nbconvert_exporter": "python",
   "pygments_lexer": "ipython3",
   "version": "3.12.7"
  }
 },
 "nbformat": 4,
 "nbformat_minor": 5
}
