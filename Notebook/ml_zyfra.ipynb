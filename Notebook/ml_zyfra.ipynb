{
 "cells": [
  {
   "cell_type": "markdown",
   "id": "5927b3e0",
   "metadata": {},
   "source": [
    "# Descripción del Proyecto"
   ]
  },
  {
   "cell_type": "markdown",
   "id": "8b72a609",
   "metadata": {},
   "source": [
    "Prepara un prototipo de un modelo de machine learning para Zyfra. La empresa desarrolla soluciones de eficiencia para la industria pesada.\n",
    "\n",
    "El modelo debe predecir la cantidad de oro extraído del mineral de oro. Dispones de los datos de extracción y purificación.\n",
    "\n",
    "El modelo ayudará a optimizar la producción y a eliminar los parámetros no rentables."
   ]
  },
  {
   "cell_type": "markdown",
   "id": "eabd5fa8",
   "metadata": {},
   "source": []
  }
 ],
 "metadata": {
  "language_info": {
   "name": "python"
  }
 },
 "nbformat": 4,
 "nbformat_minor": 5
}
